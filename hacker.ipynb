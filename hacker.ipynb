{
  "nbformat": 4,
  "nbformat_minor": 0,
  "metadata": {
    "colab": {
      "name": "hacker.ipynb",
      "provenance": [],
      "collapsed_sections": []
    },
    "kernelspec": {
      "name": "python3",
      "display_name": "Python 3"
    },
    "language_info": {
      "name": "python"
    }
  },
  "cells": [
    {
      "cell_type": "code",
      "execution_count": null,
      "metadata": {
        "id": "HeLtskulY5Dk"
      },
      "outputs": [],
      "source": [
        "! pip install gdown"
      ]
    },
    {
      "cell_type": "code",
      "source": [
        "import gdown\n",
        "\n",
        "gdown.download('https://drive.google.com/uc?id=1425LtXIW_GoD6L3OfNLprJxxCjzavGxe', 'AVVP-ECCV20-master.zip')"
      ],
      "metadata": {
        "id": "aSHo9Qv8ukPi"
      },
      "execution_count": null,
      "outputs": []
    },
    {
      "cell_type": "code",
      "source": [
        "! unzip 'AVVP-ECCV20-master.zip' -d 'hacker/'"
      ],
      "metadata": {
        "id": "DEagWvEgvN9N"
      },
      "execution_count": null,
      "outputs": []
    },
    {
      "cell_type": "code",
      "source": [
        "import gdown\n",
        "\n",
        "gdown.download('https://drive.google.com/uc?id=10CeaI1G9uIyz5dKnd7XTeH9-qOehC7CL', 'feats.zip')"
      ],
      "metadata": {
        "id": "0Cg9bN4iv4gR"
      },
      "execution_count": null,
      "outputs": []
    },
    {
      "cell_type": "code",
      "source": [
        "! unzip 'feats.zip' -d 'hacker/'"
      ],
      "metadata": {
        "id": "lgv-ZoJZyRmH"
      },
      "execution_count": null,
      "outputs": []
    },
    {
      "cell_type": "code",
      "source": [
        "! python hacker/AVVP-ECCV20-master/main_avvp.py --mode test --pool_mode max --checkpoint MMIL_Net_max --audio_dir hacker/feats/vggish/ --video_dir hacker/feats/res152/ --st_dir hacker/feats/r2plus1d_18/"
      ],
      "metadata": {
        "colab": {
          "base_uri": "https://localhost:8080/"
        },
        "id": "tuPLZ1ZmzAmj",
        "outputId": "3d626d3a-262a-4493-acc6-ef0edc4b253c"
      },
      "execution_count": 45,
      "outputs": [
        {
          "output_type": "stream",
          "name": "stdout",
          "text": [
            "Audio Event Detection Segment-level F1: 13.1\n",
            "Visual Event Detection Segment-level F1: 18.9\n",
            "Audio-Visual Event Detection Segment-level F1: 20.2\n",
            "Segment-levelType@Avg. F1: 17.4\n",
            "Segment-level Event@Avg. F1: 11.7\n",
            "Audio Event Detection Event-level F1: 9.9\n",
            "Visual Event Detection Event-level F1: 17.2\n",
            "Audio-Visual Event Detection Event-level F1: 18.2\n",
            "Event-level Type@Avg. F1: 15.1\n",
            "Event-level Event@Avg. F1: 9.0\n"
          ]
        }
      ]
    }
  ]
}